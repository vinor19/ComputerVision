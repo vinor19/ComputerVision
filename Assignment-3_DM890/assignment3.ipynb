{
 "cells": [
  {
   "attachments": {},
   "cell_type": "markdown",
   "id": "367ea638",
   "metadata": {},
   "source": [
    "# DM890 Assignment 3\n",
    "\n",
    "---\n",
    "In this semester, we will use Google Colab for the assignments, which allows us to utilize resources that some of us might not have in their local machines such as GPUs. \n",
    "\n",
    "## Google Colab Tutorial\n",
    "---\n",
    "Go to https://colab.research.google.com/notebooks/, you will see a tutorial named \"Welcome to Colaboratory\" file, where you can learn the basics of using google colab.\n",
    "\n",
    "Settings used for assignments: ***Edit -> Notebook Settings -> Runtime Type (Python 3)***.\n",
    "\n",
    "\n",
    "## Description\n",
    "---\n",
    "This project is an introduction to deep learning tools for computer vision. You will design and train deep convolutional networks for scene recognition using [PyTorch](http://pytorch.org). You can visualize the\n",
    "structure of the network with [mNeuron] (http://vision03.csail.mit.edu/cnn_art/index.html)\n",
    "\n",
    "In the previous you have trained a deep convolutional network from scratch to recognize scenes. The starter codes similar to the previous assignment gives you methods to load data and display them. In the previous assignment you might have managed to achieve a recognition accuracy to 50, 60, or perhaps 70%. Unfortunately, we only have 2,400 training examples so it doesn't seem possible to train a network from scratch which outperforms hand-crafted features\n",
    "\n",
    "Therefore, in this assignment, you will instead fine-tune a pre-trained deep network to achieve about 85% accuracy on the task. We will use the pretrained AlexNet network which was not trained to recognize scenes at all.\n",
    "\n",
    "This approach and the previous approach of training from the scratch represent the most common approaches to recognition problems in computer vision today -- train a deep network from scratch if you have enough data (it's not always obvious whether or not you do), and if you cannot then instead fine-tune a pre-trained network.\n",
    "\n",
    "There are 3 sub problems (under Problem 1) in this homework with a total of 70 points and 10 bonus points. Be sure to read **Submission Guidelines** below. They are important. For the problems requiring text descriptions, you might want to add a markdown block for that. **Note that the instructor and the TAs are not going to provide any further information regarding the bonus question**.\n",
    "\n",
    "## Dataset\n",
    "---\n",
    "Save the [dataset(click me)](https://drive.google.com/open?id=1NWC3TMsXSWN2TeoYMCjhf2N1b-WRDh-M) into your working folder in your Google Drive for this homework. <br> This can also be possible using symbolic links or shortcuts as they are called in Google Drive. Using this trick you do not need to load the dataset into your own drive.\n",
    "Under your root folder, there should be a folder named \"data\" (i.e. XXX/SDU-ID/data) containing the images.\n",
    "**Do not upload** the data subfolder before submitting on blackboard due to size limit. There should be only one .ipynb file under your root folder Surname_Givenname_sdu-handle.\n",
    "\n",
    "## Some Tutorials (PyTorch)\n",
    "---\n",
    "- You will be using PyTorch for deep learning toolbox (follow the [link](http://pytorch.org) for installation).\n",
    "- For PyTorch beginners, please read this [tutorial](http://pytorch.org/tutorials/beginner/deep_learning_60min_blitz.html) before doing your homework.\n",
    "- Feel free to study more tutorials at http://pytorch.org/tutorials/.\n",
    "- Find cool visualization here at http://playground.tensorflow.org."
   ]
  },
  {
   "cell_type": "code",
   "execution_count": 1,
   "id": "163b6de2",
   "metadata": {},
   "outputs": [],
   "source": [
    "# import packages here\n",
    "import cv2\n",
    "import numpy as np\n",
    "import matplotlib.pyplot as plt\n",
    "import glob\n",
    "import random \n",
    "import time\n",
    "\n",
    "import torch\n",
    "import torchvision\n",
    "import torchvision.transforms as transforms\n",
    "\n",
    "from torch.autograd import Variable\n",
    "import torch.nn as nn\n",
    "import torch.nn.functional as F"
   ]
  },
  {
   "cell_type": "code",
   "execution_count": null,
   "id": "502f4fec",
   "metadata": {},
   "outputs": [],
   "source": [
    "# Mount your google drive where you've saved your assignment folder\n",
    "from google.colab import drive\n",
    "drive.mount('/content/gdrive')"
   ]
  },
  {
   "cell_type": "code",
   "execution_count": null,
   "id": "b41de13c",
   "metadata": {},
   "outputs": [],
   "source": [
    "# Replace '------' with the path such that \"dm890_assignment2\" is your working directory\n",
    "cd '/content/gdrive/My Drive/------'"
   ]
  },
  {
   "attachments": {},
   "cell_type": "markdown",
   "id": "437b789c",
   "metadata": {},
   "source": [
    "## Problem 0: Loading and Preprocessing data\n",
    "---\n",
    "(0 point) In this part, you are provided with a function that loads data into minibatches for training and testing in PyTorch. However, some preprocessing parts are missing. Your will need to implement them when doing Problem 1."
   ]
  },
  {
   "cell_type": "code",
   "execution_count": 2,
   "id": "1988d6ee",
   "metadata": {},
   "outputs": [
    {
     "name": "stdout",
     "output_type": "stream",
     "text": [
      "class_names: {} \n"
     ]
    }
   ],
   "source": [
    "#--------------------------------------------------\n",
    "#    Load Training Data and Testing Data\n",
    "#--------------------------------------------------\n",
    "\n",
    "def set_random_seed(seed):\n",
    "     torch.manual_seed(seed)\n",
    "     torch.cuda.manual_seed_all(seed)\n",
    "     np.random.seed(seed)\n",
    "     random.seed(seed)\n",
    "     torch.backends.cudnn.deterministic = True\n",
    "set_random_seed(0)\n",
    "\n",
    "class_names = [name[13:] for name in glob.glob('./data/train/*')]\n",
    "class_names = dict(zip(range(len(class_names)), class_names))\n",
    "print(\"class_names: %s \" % class_names)\n",
    "\n",
    "def load_dataset(path, img_size, num_per_class=-1, batch_size=16, shuffle=False,\n",
    "           augment=False, is_color=False, zero_centered=False):    \n",
    "    data = []\n",
    "    labels = []    \n",
    "    channel_num = 3 if is_color else 1\n",
    "        \n",
    "    # read images and resizing\n",
    "    for id, class_name in class_names.items():\n",
    "        print(\"Loading images from class: %s\" % id)\n",
    "        img_path_class = glob.glob(path + class_name + '/*.jpg')\n",
    "        if num_per_class > 0:\n",
    "            img_path_class = img_path_class[:num_per_class]\n",
    "        labels.extend([id]*len(img_path_class))\n",
    "        for filename in img_path_class:\n",
    "            if is_color:\n",
    "                img = cv2.imread(filename)\n",
    "            else:\n",
    "                img = cv2.imread(filename, 0)\n",
    "            \n",
    "            # resize the image\n",
    "            img = cv2.resize(img, img_size, cv2.INTER_LINEAR)\n",
    "            \n",
    "            if is_color:\n",
    "                img = np.transpose(img, [2, 0, 1])\n",
    "            \n",
    "            # norm pixel values to [-1, 1]\n",
    "            data.append(img.astype(np.float)/255*2-1)\n",
    "            \n",
    "    ##########--WRITE YOUR CODE HERE--##########\n",
    "    # Data Augmentation \n",
    "    if augment: \n",
    "        transforms.Compose([\n",
    "        transforms.RandomResizedCrop(224),\n",
    "        transforms.RandomHorizontalFlip(),\n",
    "        transforms.ToTensor()])\n",
    "        pass\n",
    "\n",
    "\n",
    "\n",
    "    ##########-------END OF CODE-------##########    \n",
    "    \n",
    "    ##########--WRITE YOUR CODE HERE--##########\n",
    "    # Data Normalization\n",
    "    if zero_centered:\n",
    "        pass\n",
    "\n",
    "\n",
    "        \n",
    "    ##########-------END OF CODE-------##########\n",
    "         \n",
    "    # randomly permute (this step is important for training)\n",
    "    if shuffle:\n",
    "        bundle = list(zip(data, labels))\n",
    "        random.shuffle(bundle)\n",
    "        data, labels = zip(*bundle)\n",
    "    \n",
    "    # divide data into minibatches of TorchTensors\n",
    "    if batch_size > 1:\n",
    "        batch_data = []\n",
    "        batch_labels = []\n",
    "         \n",
    "        for i in range(int(len(data) / batch_size)):\n",
    "            minibatch_d = data[i*batch_size: (i+1)*batch_size]\n",
    "            minibatch_d = np.reshape(minibatch_d, (batch_size, channel_num, img_size[0], img_size[1]))\n",
    "            batch_data.append(torch.from_numpy(minibatch_d))\n",
    "\n",
    "            minibatch_l = labels[i*batch_size: (i+1)*batch_size]\n",
    "            batch_labels.append(torch.LongTensor(minibatch_l))\n",
    "        data, labels = batch_data, batch_labels \n",
    "    \n",
    "    return zip(batch_data, batch_labels)"
   ]
  },
  {
   "cell_type": "code",
   "execution_count": null,
   "id": "9483a7cd",
   "metadata": {},
   "outputs": [],
   "source": [
    "# load data into size (64, 64)\n",
    "img_size = (64, 64)\n",
    "batch_size = 64 # training sample number per batch\n",
    "\n",
    "# load training dataset\n",
    "trainloader_small = list(load_dataset('./data/train/', img_size, batch_size=batch_size, shuffle=True))\n",
    "train_num = len(trainloader_small)\n",
    "print(\"Finish loading %d minibatches (batch_size=%d) of training samples.\" % (train_num, batch_size))\n",
    "\n",
    "# load testing dataset\n",
    "testloader_small = list(load_dataset('./data/test/', img_size, num_per_class=50, batch_size=batch_size))\n",
    "test_num = len(testloader_small)\n",
    "print(\"Finish loading %d minibatches (batch_size=%d) of testing samples.\" % (test_num, batch_size))"
   ]
  },
  {
   "cell_type": "code",
   "execution_count": null,
   "id": "6add360c",
   "metadata": {},
   "outputs": [],
   "source": [
    "# show some images\n",
    "def imshow(img):\n",
    "    img = img / 2 + 0.5     # unnormalize\n",
    "    npimg = img.numpy()\n",
    "    if len(npimg.shape) > 2:\n",
    "        npimg = np.transpose(img, [1, 2, 0])\n",
    "    plt.figure\n",
    "    plt.imshow(npimg, 'gray')\n",
    "    plt.show()\n",
    "img, label = trainloader_small[0][0][11][0], trainloader_small[0][1][11]\n",
    "label = int(np.array(label))\n",
    "print(class_names[label])\n",
    "imshow(img)"
   ]
  },
  {
   "attachments": {},
   "cell_type": "markdown",
   "id": "d906be39",
   "metadata": {},
   "source": [
    "## Problem 1: Fine Tuning a Pre-Trained Deep Network\n",
    "Our convolutional network to this point isn't \"deep\". Fortunately, the representations learned by deep convolutional networks is that they generalize surprisingly well to other recognition tasks. \n",
    "\n",
    "But how do we use an existing deep network for a new recognition task? Take for instance,  [AlexNet](http://papers.nips.cc/paper/4824-imagenet-classification-with-deep-convolutional-neural-networks) network has 1000 units in the final layer corresponding to 1000 ImageNet categories.\n",
    "\n",
    "\n",
    "**Hints**:\n",
    "- Many pre-trained models are available in PyTorch at [here](https://pytorch.org/vision/stable/models.html).\n",
    "- For fine-tuning pretrained network using PyTorch, please read this [tutorial](http://pytorch.org/tutorials/beginner/transfer_learning_tutorial.html)."
   ]
  },
  {
   "attachments": {},
   "cell_type": "markdown",
   "id": "d3d758ff",
   "metadata": {},
   "source": [
    "### Problem 1.1\n",
    "\n",
    "**Strategy A**: *Fine-tune* an existing network. In this scenario you take an existing network, replace the final layer (or more) with random weights, and train the entire network again with images and ground truth labels for your recognition task. You are effectively treating the pre-trained deep network as a better initialization than the random weights used when training from scratch. When you don't have enough training data to train a complex network from scratch (e.g. with the 16 classes) this is an attractive option. Fine-tuning can work far better than Strategy B of taking the activations directly from an pre-trained CNN. For example, in [this paper](http://www.cc.gatech.edu/~hays/papers/deep_geo.pdf) from CVPR 2015, there wasn't enough data to train a deep network from scratch, but fine tuning led to 4 times higher accuracy than using off-the-shelf networks directly.\n",
    "\n",
    "(35 points) You are required to implement Strategy A to fine-tune a pre-trained **AlexNet** for this scene classification task. You should be able to achieve accuracy of **0.85** approximately. The minimum accuracy required for this section is **0.75**.\n",
    "\n",
    "Please provide detailed descriptions of:<br>\n",
    "(1) which layers of AlexNet have been replaced<br>\n",
    "(2) the architecture of the new layers added including activation methods (same as problem 1)<br>\n",
    "(3) the final accuracy on test set <br>"
   ]
  },
  {
   "cell_type": "code",
   "execution_count": null,
   "id": "67208818",
   "metadata": {},
   "outputs": [],
   "source": [
    "# reload data with a larger size\n",
    "img_size = (224, 224)\n",
    "batch_size = 64 # training sample number per batch \n",
    "\n",
    "# load training dataset\n",
    "trainloader_large = list(load_dataset('./data/train/', img_size, num_per_class=100, batch_size=batch_size, shuffle=True, \n",
    "                                      augment=True, is_color=True, zero_centered=True))\n",
    "train_num = len(trainloader_large)\n",
    "print(\"Finish loading %d minibatches (batch_size=%d) of training samples.\" % (train_num, batch_size))\n",
    "\n",
    "# load testing dataset\n",
    "testloader_large = list(load_dataset('./data/test/', img_size, num_per_class=50, batch_size=batch_size, is_color=True, zero_centered=True))\n",
    "test_num = len(testloader_large)\n",
    "print(\"Finish loading %d minibatches (batch_size=%d) of testing samples.\" % (test_num, batch_size))"
   ]
  },
  {
   "cell_type": "code",
   "execution_count": null,
   "id": "e1ba6e02",
   "metadata": {},
   "outputs": [],
   "source": [
    "#--------------------------------------------------\n",
    "#       Fine-Tune Pretrained Network\n",
    "#--------------------------------------------------\n"
   ]
  },
  {
   "attachments": {},
   "cell_type": "markdown",
   "id": "874db589",
   "metadata": {},
   "source": [
    "**Answer**:\n",
    "\n",
    "(1) which layers of AlexNet have been replaced\n",
    "\n",
    "\n",
    "\n",
    "(2) the architecture of the new layers added including activation methods (same as problem 1)\n",
    "\n",
    "Data augmentation: \n",
    "\n",
    "Data normalization: \n",
    "\n",
    "Features Layers : \n",
    "\n",
    "Classifier Layer 1: \n",
    "\n",
    "Classifier Layer 2: \n",
    "\n",
    "Classifier Layer 3: \n",
    "\n",
    "...\n",
    "\n",
    "(3) the final accuracy on test set\n",
    "\n",
    "Accuracy on test set: \n",
    "\n"
   ]
  },
  {
   "attachments": {},
   "cell_type": "markdown",
   "id": "3735abd3",
   "metadata": {},
   "source": [
    "### Problem 1.2\n",
    "**Strategy B**: One could use those 1000 activations as a feature in place of a hand crafted feature such as a bag-of-features representation. You would train a classifier (typically a linear SVM) in that 1000 dimensional feature space. However, those activations are clearly very object specific and may not generalize well to new recognition tasks. It is generally better to use the activations in slightly earlier layers of the network, e.g. the 4096 activations in the last 2nd fully-connected layer. You can often get away with sub-sampling those 4096 activations considerably, e.g. taking only the first 1000 activations.\n",
    "\n",
    "(35 points) Implement Strategy B where you use the activations of the pre-trained **AlexNet** as features to train **one-vs-all SVMs** for your scene classification task. Report the final accuracy on test set. You should be able to achieve accuracy of **0.80** approximately. The minimum accuracy required for this section is **0.70**."
   ]
  },
  {
   "cell_type": "code",
   "execution_count": null,
   "id": "2086fbf1",
   "metadata": {},
   "outputs": [],
   "source": [
    "#--------------------------------------------------\n",
    "#       Get Features from AlexNet\n",
    "#--------------------------------------------------\n",
    "\n",
    "train_feat, train_label = \n",
    "test_feat, test_label = \n"
   ]
  },
  {
   "cell_type": "code",
   "execution_count": null,
   "id": "4efbcc47",
   "metadata": {},
   "outputs": [],
   "source": [
    "#--------------------------------------------------\n",
    "#       Train and Evaluate SVM\n",
    "#--------------------------------------------------\n"
   ]
  },
  {
   "attachments": {},
   "cell_type": "markdown",
   "id": "74f5cd7b",
   "metadata": {},
   "source": [
    "**Answer**:\n",
    "\n",
    "Accuracy on test set: "
   ]
  },
  {
   "attachments": {},
   "cell_type": "markdown",
   "id": "dd257204",
   "metadata": {},
   "source": [
    "### Problem 1.3 (Bonus)\n",
    "\n",
    "(Bonus: 10 points) Bonus will be given to those who fine-tune the [ResNet network](https://pytorch.org/docs/stable/_modules/torchvision/models/resnet.html) [(paper)](https://arxiv.org/abs/1512.03385) and compare performance with AlexNet. Explain why ResNet performed better or worse. You are **required** to use **resnet50** model. You should be able to achieve accuracy of **0.99** approximately. The minimum accuracy required for this section is **0.85**."
   ]
  },
  {
   "cell_type": "code",
   "execution_count": null,
   "id": "4b906bbf",
   "metadata": {},
   "outputs": [],
   "source": [
    "#--------------------------------------------------\n",
    "#       Fine-Tune Pretrained Network\n",
    "#--------------------------------------------------\n"
   ]
  },
  {
   "attachments": {},
   "cell_type": "markdown",
   "id": "cdf6c77f",
   "metadata": {},
   "source": [
    "**Answer**:\n",
    "\n",
    "Accuracy on test set:\n"
   ]
  },
  {
   "attachments": {},
   "cell_type": "markdown",
   "id": "090600db",
   "metadata": {},
   "source": [
    "## Submission guidelines\n",
    "---\n",
    "Please submit a pdf file that includes a ***google shared link***(explained in the next paragraph) and the ***a copy paste of the Assignment solutions*** through ITSLearning. This pdf file should be named as **Surname_Givenname_SDU-ID_assignment*.pdf** (example: Jordan_Michael_jomi23_assignment3.pdf for this assignment). This pdf will be used for a similarity checking of your codes.\n",
    "\n",
    "To generate the ***google shared link***, first create a folder named ***Surname_Givenname_SDU-ID_hw*.*** (example: Jordan_Michael_jomi23_assignment1 for this assignment) in your Google Drive with your account. The structure of the files in the folder should be exactly the same as the one you downloaded. For instance in this homework:\n",
    "\n",
    "```\n",
    "Surname_Givenname_SDU-ID_assignment3       \n",
    "        |---SourceImages\n",
    "        |---[Your_code].ipynb\n",
    "```\n",
    "Note that this folder should be in your Google Drive.\n",
    "\n",
    "Note that in google colab, we will only grade the version of the code right before the timestamp of the submission made in ITSLearning. \n",
    "\n",
    "Regarding copy-pasting the assignment solutions, just copy-paste the code snippet you are writing in this Jupyter notebook. This generated pdf file will allow us to have access to your assignment solutions through the google shared link and perform a plagiarism checking on your designed solutions.\n",
    "\n",
    "Extract the downloaded .zip file to a folder of your preference. The input and output paths are predefined and **DO NOT** change them, (we assume that 'Surname_Givenname_SDU-ID_assignment1' is your working directory, and all the paths are relative to this directory).  The image read and write functions are already written for you. All you need to do is to fill in the blanks as indicated to generate proper outputs.\n",
    "\n",
    "\n",
    "-- DO NOT change the folder structure, please just fill in the blanks. <br>\n",
    "\n",
    "You are encouraged to post and answer questions on ITSLearning. Please ask questions on ITSLearning and send emails only for personal issues.\n",
    "\n",
    "If you alter the folder structures, the grading of your homework will be significantly delayed and possibly penalized.\n",
    "\n",
    "Be aware that your code will undergo plagiarism check both vertically and horizontally. Please do your own work.\n"
   ]
  }
 ],
 "metadata": {
  "kernelspec": {
   "display_name": "Python 3",
   "language": "python",
   "name": "python3"
  },
  "language_info": {
   "codemirror_mode": {
    "name": "ipython",
    "version": 3
   },
   "file_extension": ".py",
   "mimetype": "text/x-python",
   "name": "python",
   "nbconvert_exporter": "python",
   "pygments_lexer": "ipython3",
   "version": "3.10.7"
  }
 },
 "nbformat": 4,
 "nbformat_minor": 5
}
